{
 "cells": [
  {
   "cell_type": "code",
   "execution_count": 1,
   "metadata": {},
   "outputs": [
    {
     "name": "stdout",
     "output_type": "stream",
     "text": [
      "Family: Wheel Name: IO_BOARD Mac Address: D8:80:39:A1:A9:53\n",
      "Family: Wheel Name: Right Mac Address: D8:80:39:A2:3A:66\n",
      "Family: Wheel Name: Left Mac Address: 54:10:EC:31:35:41\n"
     ]
    }
   ],
   "source": [
    "import hebi\n",
    "from time import sleep\n",
    "import numpy as np\n",
    "\n",
    "lookup = hebi.Lookup()\n",
    "sleep(2)\n",
    "\n",
    "group = lookup.get_group_from_names(['Wheel'], ['IO_BOARD', 'Right', 'Left'])\n",
    "\n",
    "if group is None:\n",
    "    print('Group not found: Did you forget to set the module family and names above?')\n",
    "    exit(1)\n",
    "\n",
    "for entry in lookup.entrylist:\n",
    "    print(entry)"
   ]
  },
  {
   "cell_type": "code",
   "execution_count": 40,
   "metadata": {},
   "outputs": [],
   "source": [
    "def print_bank(pin_bank, bank_label):\n",
    "    if(bank_label == 'a'):\n",
    "        pin = 1\n",
    "        print('Pin {0} {1} float data: {2}'.format(bank_label, pin, pin_bank.get_float(pin)))\n",
    "    elif(bank_label == 'b'):\n",
    "        print('Pin {0} {1} int data: {2}, Pin {3} {4} int data: {5}'.format(bank_label, 1, pin_bank.get_int(1), bank_label, 2, pin_bank.get_int(2)))\n",
    "    '''\n",
    "    for i in range(0, 8):\n",
    "        pin = i + 1\n",
    "        if (pin_bank.has_float(pin)):\n",
    "            print('Pin {0} {1} float data: {2}'.format(bank_label, pin, pin_bank.get_float(pin)))\n",
    "        if (pin_bank.has_int(pin)):\n",
    "            print('Pin {0} {1} int data: {2}'.format(bank_label, pin, pin_bank.get_int(pin)))\n",
    "    '''"
   ]
  },
  {
   "cell_type": "code",
   "execution_count": 2,
   "metadata": {},
   "outputs": [],
   "source": [
    "def feedback_handler(group_fbk):\n",
    "    # Container to the IO feedback\n",
    "    io = group_fbk.io\n",
    "    #print_bank(io.a, 'a')\n",
    "    #print_bank(io.b, 'b')\n",
    "    #print_bank(io.c, 'c')\n",
    "    #print_bank(io.d, 'd')\n",
    "    #print_bank(io.e, 'e')\n",
    "    #print_bank(io.f, 'f')\n",
    "    \n",
    "    B2 = np.asarray(io.b.get_int(2))\n",
    "    print(B2)\n",
    "    #if(B1[0] == 1):\n",
    "    #    print(group_fbk.accelerometer.item(1,0))"
   ]
  },
  {
   "cell_type": "code",
   "execution_count": 3,
   "metadata": {},
   "outputs": [
    {
     "name": "stdout",
     "output_type": "stream",
     "text": [
      "[0 0 0]\n",
      "[0 0 0]\n",
      "[0 0 0]\n",
      "[0 0 0]\n",
      "[0 0 0]\n",
      "[0 0 0]\n",
      "[0 0 0]\n",
      "[0 0 0]\n",
      "[0 0 0]\n",
      "[0 0 0]\n",
      "[0 0 0]\n",
      "[0 0 0]\n",
      "[0 0 0]\n",
      "[0 0 0]\n",
      "[0 0 0]\n",
      "[0 0 0]\n",
      "[0 0 0]\n",
      "[0 0 0]\n",
      "[0 0 0]\n",
      "[0 0 0]\n",
      "[0 0 0]\n",
      "[0 0 0]\n",
      "[0 0 0]\n",
      "[0 0 0]\n",
      "[0 0 0]\n",
      "[0 0 0]\n",
      "[0 0 0]\n",
      "[0 0 0]\n",
      "[0 0 0]\n",
      "[0 0 0]\n",
      "[0 0 0]\n",
      "[0 0 0]\n",
      "[1 0 0]\n",
      "[1 0 0]\n",
      "[1 0 0]\n",
      "[1 0 0]\n",
      "[1 0 0]\n",
      "[1 0 0]\n",
      "[1 0 0]\n",
      "[1 0 0]\n",
      "[1 0 0]\n",
      "[1 0 0]\n",
      "[1 0 0]\n",
      "[1 0 0]\n",
      "[1 0 0]\n",
      "[1 0 0]\n",
      "[1 0 0]\n",
      "[1 0 0]\n",
      "[1 0 0]\n",
      "[1 0 0]\n",
      "[1 0 0]\n",
      "[1 0 0]\n",
      "[1 0 0]\n",
      "[1 0 0]\n",
      "[1 0 0]\n",
      "[0 0 0]\n",
      "[0 0 0]\n",
      "[0 0 0]\n",
      "[1 0 0]\n",
      "[1 0 0]\n",
      "[1 0 0]\n",
      "[1 0 0]\n",
      "[1 0 0]\n",
      "[0 0 0]\n",
      "[0 0 0]\n",
      "[0 0 0]\n",
      "[1 0 0]\n",
      "[1 0 0]\n",
      "[1 0 0]\n",
      "[1 0 0]\n",
      "[0 0 0]\n",
      "[0 0 0]\n",
      "[0 0 0]\n",
      "[0 0 0]\n",
      "[0 0 0]\n",
      "[0 0 0]\n",
      "[0 0 0]\n",
      "[0 0 0]\n",
      "[0 0 0]\n",
      "[0 0 0]\n",
      "[0 0 0]\n",
      "[0 0 0]\n",
      "[0 0 0]\n",
      "[0 0 0]\n",
      "[0 0 0]\n",
      "[0 0 0]\n",
      "[0 0 0]\n",
      "[0 0 0]\n",
      "[1 0 0]\n",
      "[1 0 0]\n",
      "[1 0 0]\n",
      "[1 0 0]\n",
      "[1 0 0]\n",
      "[1 0 0]\n",
      "[1 0 0]\n",
      "[1 0 0]\n",
      "[1 0 0]\n",
      "[1 0 0]\n",
      "[0 0 0]\n",
      "[0 0 0]\n"
     ]
    }
   ],
   "source": [
    "group.add_feedback_handler(feedback_handler)\n",
    "group.feedback_frequency = 10\n",
    "\n",
    "# Wait 10 seconds\n",
    "sleep(10)\n",
    "\n",
    "group.feedback_frequency = 0.0\n",
    "group.clear_feedback_handlers()"
   ]
  },
  {
   "cell_type": "code",
   "execution_count": 4,
   "metadata": {},
   "outputs": [
    {
     "name": "stdout",
     "output_type": "stream",
     "text": [
      "<hebi._internal.message_utils.GroupMessageIoFieldContainer object at 0x00000260CF483B38>\n"
     ]
    }
   ],
   "source": [
    "group_fbk = hebi.GroupFeedback(group.size)\n",
    "print('{0}'.format(group_fbk.io))"
   ]
  },
  {
   "cell_type": "code",
   "execution_count": null,
   "metadata": {},
   "outputs": [],
   "source": []
  }
 ],
 "metadata": {
  "kernelspec": {
   "display_name": "Python 3",
   "language": "python",
   "name": "python3"
  },
  "language_info": {
   "codemirror_mode": {
    "name": "ipython",
    "version": 3
   },
   "file_extension": ".py",
   "mimetype": "text/x-python",
   "name": "python",
   "nbconvert_exporter": "python",
   "pygments_lexer": "ipython3",
   "version": "3.6.5"
  }
 },
 "nbformat": 4,
 "nbformat_minor": 2
}
