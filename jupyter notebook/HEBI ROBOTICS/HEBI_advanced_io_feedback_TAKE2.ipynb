{
 "cells": [
  {
   "cell_type": "code",
   "execution_count": null,
   "metadata": {},
   "outputs": [],
   "source": [
    "import hebi\n",
    "from time import sleep\n",
    "\n",
    "lookup = hebi.Lookup()\n",
    "sleep(2)\n",
    "\n",
    "group = lookup.get_group_from_names(['HEBI'], ['IO_BOARD'])\n",
    "\n",
    "if group is None:\n",
    "    print('Group not found: Did you forget to set the module family and names above?')\n",
    "    exit(1)\n",
    "\n",
    "\n",
    "def print_bank(pin_bank, bank_label):\n",
    "    for i in range(0, 8):\n",
    "        pin = i + 1\n",
    "        if (pin_bank.has_float(pin)):\n",
    "            print('Pin {0} {1} float data: {2}'.format(bank_label, pin, pin_bank.get_float(pin)))\n",
    "        if (pin_bank.has_int(pin)):\n",
    "            print('Pin {0} {1} int data: {2}'.format(bank_label, pin, pin_bank.get_int(pin)))\n",
    "\n",
    "\n",
    "def feedback_handler(group_fbk):\n",
    "    # Container to the IO feedback\n",
    "    io = group_fbk.io\n",
    "    print_bank(io.a, 'a')\n",
    "    print_bank(io.b, 'b')\n",
    "    print_bank(io.c, 'c')\n",
    "    print_bank(io.d, 'd')\n",
    "    print_bank(io.e, 'e')\n",
    "    print_bank(io.f, 'f')\n",
    "\n",
    "\n",
    "group.add_feedback_handler(feedback_handler)\n",
    "group.feedback_frequency = 4.0\n",
    "\n",
    "# Wait 10 seconds\n",
    "sleep(10)\n",
    "\n",
    "group.feedback_frequency = 0.0\n",
    "group.clear_feedback_handlers()"
   ]
  }
 ],
 "metadata": {
  "kernelspec": {
   "display_name": "Python 3",
   "language": "python",
   "name": "python3"
  },
  "language_info": {
   "codemirror_mode": {
    "name": "ipython",
    "version": 3
   },
   "file_extension": ".py",
   "mimetype": "text/x-python",
   "name": "python",
   "nbconvert_exporter": "python",
   "pygments_lexer": "ipython3",
   "version": "3.6.5"
  }
 },
 "nbformat": 4,
 "nbformat_minor": 2
}
