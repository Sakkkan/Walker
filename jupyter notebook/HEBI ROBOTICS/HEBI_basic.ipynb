{
 "cells": [
  {
   "cell_type": "markdown",
   "metadata": {},
   "source": [
    "# Look Up"
   ]
  },
  {
   "cell_type": "code",
   "execution_count": 2,
   "metadata": {},
   "outputs": [
    {
     "ename": "ModuleNotFoundError",
     "evalue": "No module named 'hebi'",
     "output_type": "error",
     "traceback": [
      "\u001b[0;31m---------------------------------------------------------------------------\u001b[0m",
      "\u001b[0;31mModuleNotFoundError\u001b[0m                       Traceback (most recent call last)",
      "\u001b[0;32m<ipython-input-2-4e09b0680625>\u001b[0m in \u001b[0;36m<module>\u001b[0;34m\u001b[0m\n\u001b[0;32m----> 1\u001b[0;31m \u001b[0;32mimport\u001b[0m \u001b[0mhebi\u001b[0m\u001b[0;34m\u001b[0m\u001b[0;34m\u001b[0m\u001b[0m\n\u001b[0m\u001b[1;32m      2\u001b[0m \u001b[0;32mfrom\u001b[0m \u001b[0mtime\u001b[0m \u001b[0;32mimport\u001b[0m \u001b[0msleep\u001b[0m\u001b[0;34m\u001b[0m\u001b[0;34m\u001b[0m\u001b[0m\n",
      "\u001b[0;31mModuleNotFoundError\u001b[0m: No module named 'hebi'"
     ]
    }
   ],
   "source": [
    "import hebi\n",
    "from time import sleep"
   ]
  },
  {
   "cell_type": "code",
   "execution_count": 2,
   "metadata": {},
   "outputs": [],
   "source": [
    "# Create lookup\n",
    "lookup = hebi.Lookup()"
   ]
  },
  {
   "cell_type": "code",
   "execution_count": 3,
   "metadata": {},
   "outputs": [
    {
     "name": "stdout",
     "output_type": "stream",
     "text": [
      "Family: Wheel Name: Right Mac Address: D8:80:39:A2:3A:66\n"
     ]
    }
   ],
   "source": [
    "# Wait 2 seconds for the module list to populate, and print out its contents\n",
    "sleep(2)\n",
    "\n",
    "for entry in lookup.entrylist:\n",
    "    print(entry)"
   ]
  },
  {
   "cell_type": "code",
   "execution_count": 4,
   "metadata": {},
   "outputs": [
    {
     "name": "stdout",
     "output_type": "stream",
     "text": [
      "Found group on network: size 1\n"
     ]
    }
   ],
   "source": [
    "# Create a group\n",
    "group = lookup.get_group_from_names(['Wheel'], ['Right'])\n",
    "\n",
    "if group == None:\n",
    "    print('Group not found: Did you forget to set the module family and names above?')\n",
    "exit(1)\n",
    "\n",
    "print('Found group on network: size {0}'.format(group.size))"
   ]
  },
  {
   "cell_type": "code",
   "execution_count": 5,
   "metadata": {},
   "outputs": [
    {
     "name": "stdout",
     "output_type": "stream",
     "text": [
      "Modules found on network:\n",
      "Wheel | Right\n"
     ]
    }
   ],
   "source": [
    "from time import sleep\n",
    "lookup = hebi.Lookup()\n",
    "# Give the Lookup process 2 seconds to discover modules\n",
    "sleep(2)\n",
    "print('Modules found on network:')\n",
    "for entry in lookup.entrylist:\n",
    "  print('{0} | {1}'.format(entry.family, entry.name))"
   ]
  },
  {
   "cell_type": "markdown",
   "metadata": {},
   "source": [
    "# Feedback_Foreground"
   ]
  },
  {
   "cell_type": "code",
   "execution_count": 1,
   "metadata": {},
   "outputs": [],
   "source": [
    "import hebi\n",
    "from time import sleep"
   ]
  },
  {
   "cell_type": "code",
   "execution_count": 3,
   "metadata": {},
   "outputs": [
    {
     "name": "stdout",
     "output_type": "stream",
     "text": [
      "Family: Wheel Name: Left Mac Address: 54:10:EC:31:35:41\n",
      "Family: Wheel Name: Right Mac Address: D8:80:39:A2:3A:66\n"
     ]
    }
   ],
   "source": [
    "# Get a group\n",
    "lookup = hebi.Lookup()\n",
    "sleep(2)\n",
    "\n",
    "group = lookup.get_group_from_names(['Wheel'], ['Right', 'Left'])\n",
    "#group = lookup.get_group_from_names(['Arm'], ['Base', 'Shoulder', 'Elbow', 'Wrist1', 'Wrist2', 'Wrist3'])\n",
    "\n",
    "if group == None:\n",
    "    print('Group not found: Did you forget to set the module family and names above?')\n",
    "exit(1)\n",
    "\n",
    "for entry in lookup.entrylist:\n",
    "    print(entry)"
   ]
  },
  {
   "cell_type": "code",
   "execution_count": 7,
   "metadata": {},
   "outputs": [],
   "source": [
    "# This is by default \"100\" - setting this to 5 here allows the console output to be more reasonable.\n",
    "group.feedback_frequency = 5"
   ]
  },
  {
   "cell_type": "code",
   "execution_count": 8,
   "metadata": {},
   "outputs": [],
   "source": [
    "# Retrieve feedback with a blocking call to \"get_next_feedback\".\n",
    "# This constrains the loop to run at the feedback frequency above; we run for about 10 seconds here.\n",
    "\n",
    "group_fbk = hebi.GroupFeedback(group.size)"
   ]
  },
  {
   "cell_type": "code",
   "execution_count": 9,
   "metadata": {},
   "outputs": [
    {
     "name": "stdout",
     "output_type": "stream",
     "text": [
      "Effortrs:[0.14677614 0.5920863 ]\n",
      "Effortrs:[0.1392743  0.58867335]\n",
      "Effortrs:[0.14747709 0.5881852 ]\n",
      "Effortrs:[0.13500184 0.5878973 ]\n",
      "Effortrs:[0.148153  0.5938679]\n",
      "Effortrs:[0.1235947  0.59787333]\n",
      "Effortrs:[0.14703482 0.59223235]\n",
      "Effortrs:[0.14237851 0.5861032 ]\n",
      "Effortrs:[0.13250679 0.592854  ]\n",
      "Effortrs:[0.13594478 0.5965632 ]\n",
      "Effortrs:[0.13383359 0.593434  ]\n",
      "Effortrs:[0.13191432 0.5981654 ]\n",
      "Effortrs:[0.13449281 0.5936676 ]\n",
      "Effortrs:[0.13795584 0.5872214 ]\n",
      "Effortrs:[0.13165563 0.5733985 ]\n",
      "Effortrs:[0.13729662 0.58049977]\n",
      "Effortrs:[0.13025373 0.5811715 ]\n",
      "Effortrs:[0.14657587 0.5900794 ]\n",
      "Effortrs:[0.1503393 0.5856776]\n",
      "Effortrs:[0.13264865 0.57371974]\n",
      "Effortrs:[0.14259547 0.5908388 ]\n",
      "Effortrs:[0.13624519 0.57789624]\n",
      "Effortrs:[0.14635056 0.59165657]\n",
      "Effortrs:[0.14435619 0.5930209 ]\n",
      "Effortrs:[0.14167756 0.5955243 ]\n",
      "Effortrs:[0.13334125 0.58354557]\n",
      "Effortrs:[0.15482873 0.5792022 ]\n",
      "Effortrs:[0.14163584 0.5937761 ]\n",
      "Effortrs:[0.1396665 0.5912769]\n",
      "Effortrs:[0.14069289 0.5891615 ]\n",
      "Effortrs:[0.12425393 0.584839  ]\n",
      "Effortrs:[0.129219   0.58012426]\n",
      "Effortrs:[0.15078157 0.5840838 ]\n",
      "Effortrs:[0.14088482 0.59117675]\n",
      "Effortrs:[0.14020056 0.5832577 ]\n",
      "Effortrs:[0.13442606 0.5889696 ]\n",
      "Effortrs:[0.13941616 0.59003353]\n",
      "Effortrs:[0.14670938 0.5938804 ]\n",
      "Effortrs:[0.14342993 0.5916357 ]\n",
      "Effortrs:[0.13660401 0.58998346]\n",
      "Effortrs:[0.14661759 0.5896163 ]\n",
      "Effortrs:[0.1278755 0.5849099]\n",
      "Effortrs:[0.12059897 0.584501  ]\n",
      "Effortrs:[0.14193624 0.5776459 ]\n",
      "Effortrs:[0.12782544 0.59318364]\n",
      "Effortrs:[0.1329574  0.58521867]\n",
      "Effortrs:[0.14220327 0.5858195 ]\n",
      "Effortrs:[0.13717145 0.5735862 ]\n",
      "Effortrs:[0.13885707 0.58730066]\n",
      "Effortrs:[0.14745206 0.5901921 ]\n",
      "Effortrs:[0.14558285 0.58761775]\n",
      "Effortrs:[0.14338821 0.5962628 ]\n",
      "Effortrs:[0.13879031 0.5888444 ]\n",
      "Effortrs:[0.14309615 0.5953407 ]\n",
      "Effortrs:[0.13833135 0.5879015 ]\n",
      "Effortrs:[0.13633698 0.6048244 ]\n",
      "Effortrs:[0.13098806 0.5855149 ]\n",
      "Effortrs:[0.13950795 0.5777335 ]\n",
      "Effortrs:[0.13450116 0.5835581 ]\n",
      "Effortrs:[0.143964  0.5863869]\n",
      "Effortrs:[0.1448819  0.58518946]\n",
      "Effortrs:[0.14510721 0.5862826 ]\n",
      "Effortrs:[0.14338821 0.58763444]\n",
      "Effortrs:[0.14329642 0.5953324 ]\n",
      "Effortrs:[0.15052289 0.5857986 ]\n",
      "Effortrs:[0.15124887 0.5871004 ]\n",
      "Effortrs:[0.13633698 0.5898249 ]\n",
      "Effortrs:[0.13743848 0.5917233 ]\n",
      "Effortrs:[0.14467329 0.5936593 ]\n",
      "Effortrs:[0.1410684  0.59092224]\n",
      "Effortrs:[0.13973325 0.59917927]\n",
      "Effortrs:[0.13855666 0.5844176 ]\n",
      "Effortrs:[0.14424771 0.5884522 ]\n",
      "Effortrs:[0.13676256 0.5922073 ]\n",
      "Effortrs:[0.12906045 0.58335364]\n",
      "Effortrs:[0.13596982 0.5890322 ]\n",
      "Effortrs:[0.13849825 0.5985826 ]\n",
      "Effortrs:[0.14688462 0.5843508 ]\n",
      "Effortrs:[0.14277071 0.58650374]\n",
      "Effortrs:[0.14228672 0.59152305]\n",
      "Effortrs:[0.15870064 0.58334947]\n",
      "Effortrs:[0.14292091 0.58577776]\n",
      "Effortrs:[0.14918774 0.5941683 ]\n",
      "Effortrs:[0.13892382 0.5876219 ]\n",
      "Effortrs:[0.1349017 0.58806  ]\n",
      "Effortrs:[0.13813108 0.5959457 ]\n",
      "Effortrs:[0.14526576 0.579803  ]\n",
      "Effortrs:[0.13962477 0.5966759 ]\n",
      "Effortrs:[0.12440413 0.58588624]\n",
      "Effortrs:[0.14611691 0.58375835]\n",
      "Effortrs:[0.1427874 0.5925286]\n",
      "Effortrs:[0.13398379 0.6020123 ]\n",
      "Effortrs:[0.14149398 0.5874884 ]\n",
      "Effortrs:[0.14041752 0.58329105]\n",
      "Effortrs:[0.14565796 0.59194446]\n",
      "Effortrs:[0.14122695 0.59428513]\n",
      "Effortrs:[0.12901872 0.5966842 ]\n",
      "Effortrs:[0.13760537 0.5910307 ]\n",
      "Effortrs:[0.13924927 0.5800158 ]\n"
     ]
    }
   ],
   "source": [
    "for i in range(0, 100):\n",
    "    # Pass in `group_fbk` to reuse the GroupFeedback instance\n",
    "    timeout_ms = 500\n",
    "    group_fbk = group.get_next_feedback(timeout_ms,group_fbk)\n",
    "    if group_fbk != None:\n",
    "        #print('Received feedback. Positions:{1:2d} {0}'.format(group_fbk.position, i))\n",
    "        #print('Positions:{0} Velocitys:{1} Effortrs:{2}'.format(group_fbk.position, group_fbk.velocity, group_fbk.effort))\n",
    "        print('Effortrs:{0}'.format(group_fbk.effort))"
   ]
  },
  {
   "cell_type": "markdown",
   "metadata": {},
   "source": [
    "# Feedback_Background"
   ]
  },
  {
   "cell_type": "code",
   "execution_count": 11,
   "metadata": {},
   "outputs": [],
   "source": [
    "import hebi\n",
    "from time import sleep\n",
    "\n",
    "# Get a group\n",
    "lookup = hebi.Lookup()\n",
    "sleep(2)\n",
    "\n",
    "#group = lookup.get_group_from_names(['Wheel'], ['Right'])\n",
    "group = lookup.get_group_from_names(['Arm'], ['Base', 'Shoulder', 'Elbow', 'Wrist1', 'Wrist2', 'Wrist3'])\n",
    "\n",
    "\n",
    "if group == None:\n",
    "    print('Group not found: Did you forget to set the module family and names above?')\n",
    "    exit(1)\n",
    "\n",
    "# This is by default \"100\" - setting this to 5 here allows the console output to be more reasonable.\n",
    "group.feedback_frequency = 5.0"
   ]
  },
  {
   "cell_type": "code",
   "execution_count": 32,
   "metadata": {},
   "outputs": [],
   "source": [
    "def feedback_handler(group_fbk):\n",
    "    print('Received feedback. Positions: {0}'.format(group_fbk.position)) "
   ]
  },
  {
   "cell_type": "code",
   "execution_count": 33,
   "metadata": {},
   "outputs": [
    {
     "name": "stdout",
     "output_type": "stream",
     "text": [
      "Received feedback. Positions: [ 0.10250664  0.23100542  0.72045326  2.65891511 -0.77837545  0.0119915 ]\n",
      "Received feedback. Positions: [ 0.10243988  0.23093323  0.7203598   2.65881974 -0.77839643  0.01195717]\n",
      "Received feedback. Positions: [ 0.10243225  0.23100282  0.72035599  2.65894062 -0.77836115  0.01192331]\n"
     ]
    }
   ],
   "source": [
    "# Add a callback to react to feedback received on a background thread.\n",
    "# This function needs to accept 1 argument, `group_fbk`\n",
    "group.add_feedback_handler(feedback_handler)\n",
    "\n",
    "# Wait for 3 seconds and stop\n",
    "sleep(3)\n",
    "group.clear_feedback_handlers()"
   ]
  },
  {
   "cell_type": "markdown",
   "metadata": {},
   "source": [
    "# Command"
   ]
  },
  {
   "cell_type": "code",
   "execution_count": 1,
   "metadata": {},
   "outputs": [
    {
     "name": "stdout",
     "output_type": "stream",
     "text": [
      "Modules found on network:\n",
      "Wheel | Left\n",
      "Wheel | Right\n"
     ]
    }
   ],
   "source": [
    "from hebi import *\n",
    "from time import sleep\n",
    "\n",
    "# Get a group\n",
    "lookup = Lookup()\n",
    "sleep(2)\n",
    "\n",
    "group = lookup.get_group_from_names(['Wheel'], ['Right', 'Left'])\n",
    "#group = lookup.get_group_from_names(['Arm'], ['Base', 'Shoulder', 'Elbow', 'Wrist1', 'Wrist2', 'Wrist3'])\n",
    "\n",
    "print('Modules found on network:')\n",
    "for entry in lookup.entrylist:\n",
    "  print('{0} | {1}'.format(entry.family, entry.name))\n",
    "\n",
    "if not group:\n",
    "    print('Group not found: Did you forget to set the module family and names above?')\n",
    "    exit(1)"
   ]
  },
  {
   "cell_type": "code",
   "execution_count": 2,
   "metadata": {},
   "outputs": [],
   "source": [
    "# Sets the command lifetime to 100 milliseconds\n",
    "group.command_lifetime = 100"
   ]
  },
  {
   "cell_type": "code",
   "execution_count": 3,
   "metadata": {},
   "outputs": [],
   "source": [
    "# Nm/rad\n",
    "spring_constant = -1.0\n",
    "group_command = GroupCommand(group.size)"
   ]
  },
  {
   "cell_type": "code",
   "execution_count": 6,
   "metadata": {},
   "outputs": [],
   "source": [
    "# Add a callback function to respond to feedback with a \"virtual spring\" command\n",
    "def feedback_handler(group_fbk):\n",
    "    # Apply Hooke's law: F = -k * x\n",
    "    group_command.effort = [spring_constant * group_fbk.position[0], -spring_constant * group_fbk.position[1]] # 原点に戻るフィードバック\n",
    "    #group_command.effort = spring_constant #無限回転\n",
    "    group.send_command(group_command)"
   ]
  },
  {
   "cell_type": "code",
   "execution_count": 7,
   "metadata": {},
   "outputs": [],
   "source": [
    "group.add_feedback_handler(feedback_handler)\n",
    "\n",
    "# Control the robot at 100Hz for 20 seconds\n",
    "group.feedback_frequency = 100.0\n",
    "sleep(20)\n",
    "group.clear_feedback_handlers()"
   ]
  },
  {
   "cell_type": "markdown",
   "metadata": {},
   "source": [
    "# Kinematics"
   ]
  },
  {
   "cell_type": "code",
   "execution_count": 74,
   "metadata": {},
   "outputs": [
    {
     "name": "stdout",
     "output_type": "stream",
     "text": [
      "Family: Arm Name: Base Mac Address: 54:10:EC:31:88:7C\n",
      "Family: Arm Name: Elbow Mac Address: D8:80:39:EE:D0:2F\n",
      "Family: Arm Name: Shoulder Mac Address: 54:10:EC:31:84:71\n",
      "Family: Arm Name: Wrist2 Mac Address: 54:10:EC:31:66:2C\n",
      "Family: Arm Name: Wrist1 Mac Address: D8:80:39:EE:C3:97\n",
      "Family: Arm Name: Wrist3 Mac Address: 54:10:EC:31:0E:73\n"
     ]
    }
   ],
   "source": [
    "from hebi import *\n",
    "from math import pi\n",
    "from time import sleep\n",
    "\n",
    "# Get a group\n",
    "lookup = Lookup()\n",
    "\n",
    "sleep(2)\n",
    "\n",
    "#group = lookup.get_group_from_names(['Wheel'], ['Right'])\n",
    "group = lookup.get_group_from_names(['Arm'], ['Base', 'Shoulder', 'Elbow', 'Wrist1', 'Wrist2', 'Wrist3'])\n",
    "\n",
    "if not group:\n",
    "    print('Group not found: Did you forget to set the module family and names above?')\n",
    "    exit(1)\n",
    "\n",
    "for entry in lookup.entrylist:\n",
    "    print(entry)"
   ]
  },
  {
   "cell_type": "code",
   "execution_count": 75,
   "metadata": {},
   "outputs": [],
   "source": [
    "# Create a simple kinematic description of the arm \n",
    "kin = robot_model.RobotModel()\n",
    "#kin.add_actuator('X8-9')\n",
    "#kin.add_bracket('X5-LightBracket', mount='left')\n",
    "\n",
    "kin.add_actuator('X8-9')\n",
    "kin.add_bracket('X5-HeavyBracket', mount='right-outside')\n",
    "kin.add_actuator('X8-9')\n",
    "kin.add_link('X5', extension=0.325, twist=pi)\n",
    "kin.add_actuator('X5-9')\n",
    "kin.add_link('X5', extension=0.325, twist=pi)\n",
    "kin.add_actuator('X5-1')\n",
    "kin.add_bracket('X5-LightBracket', mount='right')\n",
    "kin.add_actuator('X5-1')\n",
    "kin.add_bracket('X5-LightBracket', mount='right')\n",
    "kin.add_actuator('X5-1')"
   ]
  },
  {
   "cell_type": "code",
   "execution_count": 76,
   "metadata": {},
   "outputs": [],
   "source": [
    "# Add a callback function to print (x,y,z) position\n",
    "def feedback_handler(group_fbk):\n",
    "    transform = kin.get_end_effector(group_fbk.position) # 4×4行列\n",
    "    print('x = {0:.3f} y = {1:.3f} z = {2:.3f}'.format(transform.item(0, 3), transform.item(1, 3), transform.item(2, 3)))"
   ]
  },
  {
   "cell_type": "code",
   "execution_count": 85,
   "metadata": {},
   "outputs": [
    {
     "name": "stdout",
     "output_type": "stream",
     "text": [
      "x = 0.264 y = 0.227 z = 0.006\n",
      "x = 0.264 y = 0.227 z = 0.006\n",
      "x = 0.264 y = 0.227 z = 0.006\n",
      "x = 0.264 y = 0.227 z = 0.006\n",
      "x = 0.264 y = 0.227 z = 0.006\n",
      "x = 0.264 y = 0.227 z = 0.006\n",
      "x = 0.264 y = 0.227 z = 0.006\n",
      "x = 0.264 y = 0.227 z = 0.006\n",
      "x = 0.264 y = 0.227 z = 0.006\n",
      "x = 0.264 y = 0.227 z = 0.006\n"
     ]
    }
   ],
   "source": [
    "group.add_feedback_handler(feedback_handler)\n",
    "\n",
    "# Control the robot at 100Hz for 30 seconds\n",
    "group.feedback_frequency = 1\n",
    "sleep(10)\n",
    "\n",
    "group.clear_feedback_handlers()"
   ]
  },
  {
   "cell_type": "markdown",
   "metadata": {},
   "source": [
    "# IK(逆運動学)"
   ]
  },
  {
   "cell_type": "code",
   "execution_count": 87,
   "metadata": {},
   "outputs": [],
   "source": [
    "from hebi import *\n",
    "from math import pi\n",
    "from time import sleep\n",
    "\n",
    "# Get a group\n",
    "lookup = Lookup()\n",
    "sleep(2)\n",
    "\n",
    "#group = lookup.get_group_from_names(['Wheel'], ['Right'])\n",
    "group = lookup.get_group_from_names(['Arm'], ['Base', 'Shoulder', 'Elbow', 'Wrist1', 'Wrist2', 'Wrist3'])\n",
    "\n",
    "if not group:\n",
    "    print('Group not found: Did you forget to set the module family and names above?')\n",
    "    exit(1)"
   ]
  },
  {
   "cell_type": "code",
   "execution_count": 88,
   "metadata": {},
   "outputs": [],
   "source": [
    "# Create a simple kinematic description of the arm \n",
    "kin = robot_model.RobotModel()\n",
    "#kin.add_actuator('X8-9')\n",
    "#kin.add_bracket('X5-LightBracket', mount='left')\n",
    "\n",
    "kin.add_actuator('X8-9')\n",
    "kin.add_bracket('X5-HeavyBracket', mount='right-outside')\n",
    "kin.add_actuator('X8-9')\n",
    "kin.add_link('X5', extension=0.325, twist=pi)\n",
    "kin.add_actuator('X5-9')\n",
    "kin.add_link('X5', extension=0.325, twist=pi)\n",
    "kin.add_actuator('X5-1')\n",
    "kin.add_bracket('X5-LightBracket', mount='right')\n",
    "kin.add_actuator('X5-1')\n",
    "kin.add_bracket('X5-LightBracket', mount='right')\n",
    "kin.add_actuator('X5-1')"
   ]
  },
  {
   "cell_type": "code",
   "execution_count": 122,
   "metadata": {},
   "outputs": [],
   "source": [
    "target_xyz = [0.7, -0.1, 0.3]\n",
    "\n",
    "if not group.send_feedback_request():\n",
    "    print('Could not send feedback request.')\n",
    "    exit(1)\n",
    "\n",
    "group_fbk = group.get_next_feedback()\n",
    "\n",
    "if not group_fbk:\n",
    "    print('Could not get feedback.')\n",
    "    exit(1)\n",
    "\n",
    "initial_joint_angles = group_fbk.position"
   ]
  },
  {
   "cell_type": "code",
   "execution_count": 123,
   "metadata": {},
   "outputs": [
    {
     "name": "stdout",
     "output_type": "stream",
     "text": [
      "Target Position:\n",
      "[0.7, -0.1, 0.3]\n",
      "IK joint angles:\n",
      "[ 0.18743549  0.32249357 -0.28459296  5.82840796 -3.04926855  0.01331494]\n",
      "FK of IK joint angles:\n",
      "[ 0.61205459 -0.08375131  0.27474266]\n"
     ]
    }
   ],
   "source": [
    "# ------------------------------------------------------------------------------\n",
    "# Get IK solution with multiple objectives\n",
    "# ------------------------------------------------------------------------------\n",
    "\n",
    "# Just multiple objective\n",
    "position_objective = robot_model.endeffector_position_objective(target_xyz)\n",
    "\n",
    "min_positions = [-pi, 0.0, -2.7, -pi,-pi, -2*pi]\n",
    "max_positions = [pi, 1.2, 2.7, pi, -pi/2, 2*pi]\n",
    "\n",
    "joint_limit = robot_model.joint_limit_constraint(min_positions, max_positions)\n",
    "ik_result_joint_angles = kin.solve_inverse_kinematics(initial_joint_angles, position_objective, joint_limit)\n",
    "\n",
    "transform = kin.get_end_effector(ik_result_joint_angles)\n",
    "\n",
    "print('Target Position:\\n{0}'.format(target_xyz))\n",
    "print('IK joint angles:\\n{0}'.format(ik_result_joint_angles))\n",
    "print('FK of IK joint angles:\\n{0}'.format(transform[0:3,3].A1))"
   ]
  },
  {
   "cell_type": "code",
   "execution_count": 124,
   "metadata": {},
   "outputs": [],
   "source": [
    "# ------------------------------------------------------------------------------\n",
    "# Send commands to the physical robot\n",
    "# ------------------------------------------------------------------------------\n",
    "\n",
    "group.command_lifetime = 100\n",
    "\n",
    "# Move the arm (note - could use the HEBI Trajectory API to do this smoothly)\n",
    "group_cmd = GroupCommand(group.size)\n",
    "group_cmd.position = ik_result_joint_angles\n",
    "\n",
    "# Note - the arm will go limp after the 100 ms command lifetime,\n",
    "# so we repeat the command in a loop here until we terminate after approximately 5 seconds\n",
    "for i in range(0, 200):\n",
    "    group.send_command(group_cmd)\n",
    "    sleep(0.05)"
   ]
  },
  {
   "cell_type": "markdown",
   "metadata": {},
   "source": [
    "# Trajectory"
   ]
  },
  {
   "cell_type": "code",
   "execution_count": 381,
   "metadata": {},
   "outputs": [],
   "source": [
    "from hebi import *\n",
    "from math import pi\n",
    "from time import sleep\n",
    "import numpy as np\n",
    "\n",
    "# Get a group\n",
    "lookup = Lookup()\n",
    "sleep(2)\n",
    "\n",
    "#group = lookup.get_group_from_names(['Wheel'], ['Right'])\n",
    "group = lookup.get_group_from_names(['Arm'], ['Base', 'Shoulder', 'Elbow', 'Wrist1', 'Wrist2', 'Wrist3'])\n",
    "\n",
    "if not group:\n",
    "    print('Group not found: Did you forget to set the module family and names above?')\n",
    "    exit(1)"
   ]
  },
  {
   "cell_type": "code",
   "execution_count": 382,
   "metadata": {},
   "outputs": [],
   "source": [
    "num_joints = group.size\n",
    "group.command_lifetime = 100\n",
    "\n",
    "if not group.send_feedback_request():\n",
    "    print('Could not send feedback request.')\n",
    "    exit(1)\n",
    "\n",
    "group_fbk = group.get_next_feedback()\n",
    "\n",
    "if not group_fbk:\n",
    "    print('Could not get feedback.')\n",
    "    exit(1)"
   ]
  },
  {
   "cell_type": "code",
   "execution_count": 383,
   "metadata": {},
   "outputs": [],
   "source": [
    "# ------------------------------------------------------------------------------\n",
    "# Position, velocity, and acceleration waypoints.\n",
    "# Each column is a separate waypoint - each row is a different joint\n",
    "# ------------------------------------------------------------------------------"
   ]
  },
  {
   "cell_type": "code",
   "execution_count": 384,
   "metadata": {},
   "outputs": [
    {
     "data": {
      "text/plain": [
       "array([[-0.002,  0.   ,  0.   ,  0.   ,  0.   ],\n",
       "       [ 0.963,  0.963,  0.5  ,  0.785,  1.   ],\n",
       "       [ 2.097,  1.571,  1.   ,  1.   ,  1.   ],\n",
       "       [ 2.554,  3.142,  3.142,  3.142,  3.142],\n",
       "       [-1.635, -1.635, -1.635, -1.635, -1.635],\n",
       "       [ 0.013,  0.013,  0.013,  0.013,  0.013]])"
      ]
     },
     "execution_count": 384,
     "metadata": {},
     "output_type": "execute_result"
    }
   ],
   "source": [
    "# [Baseの回転軸, 0, pi/2, 0 , 0 ],\n",
    "# [Shoulderの回転軸, 0, 0 , -pi/2, 0],.............\n",
    "\n",
    "positions = np.zeros((num_joints, 5))\n",
    "positions[0:6, 0] = group_fbk.position[0:6].T\n",
    "positions[0:6, 1] = group_fbk.position[0:6].T\n",
    "positions[0:6, 2] = group_fbk.position[0:6].T\n",
    "positions[0:6, 3] = group_fbk.position[0:6].T\n",
    "positions[0:6, 4] = group_fbk.position[0:6].T\n",
    "positions[0, 1:5] = 0\n",
    "positions[1, 2] = 0.5\n",
    "positions[1, 3] = pi/4\n",
    "positions[1, 4:5] = 1.0\n",
    "positions[2, 1] = pi/2\n",
    "positions[2, 2:5] = 1.0\n",
    "positions[3, 1:5] = pi\n",
    "\n",
    "np.set_printoptions(precision=3, suppress=True)\n",
    "positions"
   ]
  },
  {
   "cell_type": "code",
   "execution_count": 385,
   "metadata": {},
   "outputs": [],
   "source": [
    "# 0, nan, nan, nan, 0\n",
    "# 0, nan, nan, nan, 0\n",
    "velocities = np.zeros((num_joints, 5))\n",
    "velocities[0:6, 1:4] = np.nan\n",
    "\n",
    "# 0, nan, nan, nan, 0\n",
    "# 0, nan, nan, nan, 0\n",
    "accelerations = velocities\n",
    "\n",
    "# 5秒ごとに\n",
    "time = np.linspace(0, 2, 5)"
   ]
  },
  {
   "cell_type": "code",
   "execution_count": 386,
   "metadata": {},
   "outputs": [
    {
     "data": {
      "text/plain": [
       "array([[ 0., nan, nan, nan,  0.],\n",
       "       [ 0., nan, nan, nan,  0.],\n",
       "       [ 0., nan, nan, nan,  0.],\n",
       "       [ 0., nan, nan, nan,  0.],\n",
       "       [ 0., nan, nan, nan,  0.],\n",
       "       [ 0., nan, nan, nan,  0.]])"
      ]
     },
     "execution_count": 386,
     "metadata": {},
     "output_type": "execute_result"
    }
   ],
   "source": [
    "velocities"
   ]
  },
  {
   "cell_type": "code",
   "execution_count": 387,
   "metadata": {},
   "outputs": [
    {
     "data": {
      "text/plain": [
       "array([[ 0., nan, nan, nan,  0.],\n",
       "       [ 0., nan, nan, nan,  0.],\n",
       "       [ 0., nan, nan, nan,  0.],\n",
       "       [ 0., nan, nan, nan,  0.],\n",
       "       [ 0., nan, nan, nan,  0.],\n",
       "       [ 0., nan, nan, nan,  0.]])"
      ]
     },
     "execution_count": 387,
     "metadata": {},
     "output_type": "execute_result"
    }
   ],
   "source": [
    "accelerations"
   ]
  },
  {
   "cell_type": "code",
   "execution_count": 388,
   "metadata": {},
   "outputs": [
    {
     "data": {
      "text/plain": [
       "array([0. , 0.5, 1. , 1.5, 2. ])"
      ]
     },
     "execution_count": 388,
     "metadata": {},
     "output_type": "execute_result"
    }
   ],
   "source": [
    "time"
   ]
  },
  {
   "cell_type": "code",
   "execution_count": 389,
   "metadata": {},
   "outputs": [],
   "source": [
    "trajectory = trajectory.create_trajectory(time, positions, velocities, accelerations)"
   ]
  },
  {
   "cell_type": "code",
   "execution_count": 390,
   "metadata": {},
   "outputs": [],
   "source": [
    "# Follow the trajectory\n",
    "group_cmd = GroupCommand(num_joints)\n",
    "period = 0.01\n",
    "duration = trajectory.duration"
   ]
  },
  {
   "cell_type": "code",
   "execution_count": 391,
   "metadata": {},
   "outputs": [],
   "source": [
    "t = 0.0\n",
    "\n",
    "while(t < duration):\n",
    "    pos_cmd, vel_cmd, eff_cmd = trajectory.get_state(t)\n",
    "    group_cmd.position = pos_cmd\n",
    "    group_cmd.velocity = vel_cmd\n",
    "    group.send_command(group_cmd)\n",
    "    \n",
    "    t = t + period\n",
    "    sleep(period)"
   ]
  },
  {
   "cell_type": "code",
   "execution_count": null,
   "metadata": {},
   "outputs": [],
   "source": []
  }
 ],
 "metadata": {
  "kernelspec": {
   "display_name": "Python 3",
   "language": "python",
   "name": "python3"
  },
  "language_info": {
   "codemirror_mode": {
    "name": "ipython",
    "version": 3
   },
   "file_extension": ".py",
   "mimetype": "text/x-python",
   "name": "python",
   "nbconvert_exporter": "python",
   "pygments_lexer": "ipython3",
   "version": "3.7.1"
  }
 },
 "nbformat": 4,
 "nbformat_minor": 2
}
