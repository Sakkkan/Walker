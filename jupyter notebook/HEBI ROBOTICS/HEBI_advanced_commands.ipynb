{
 "cells": [
  {
   "cell_type": "markdown",
   "metadata": {},
   "source": [
    "# Command Strategy"
   ]
  },
  {
   "cell_type": "code",
   "execution_count": 1,
   "metadata": {},
   "outputs": [],
   "source": [
    "import hebi"
   ]
  },
  {
   "cell_type": "code",
   "execution_count": 2,
   "metadata": {},
   "outputs": [],
   "source": [
    "lookup = hebi.Lookup()\n",
    "group = lookup.get_group_from_names(['Wheel'], ['Right'])\n",
    "\n",
    "if group is None:\n",
    "    print('Group not found: Did you forget to set the module family and names above?')\n",
    "    exit(1)"
   ]
  },
  {
   "cell_type": "code",
   "execution_count": 4,
   "metadata": {},
   "outputs": [
    {
     "name": "stdout",
     "output_type": "stream",
     "text": [
      "Got acknowledgement\n"
     ]
    }
   ],
   "source": [
    "command = hebi.GroupCommand(group.size)\n",
    "\n",
    "# Set the control strategy for all the modules\n",
    "\n",
    "command.control_strategy = 'strategy3'\n",
    "\n",
    "if group.send_command_with_acknowledgement(command, 100):\n",
    "    print('Got acknowledgement')\n",
    "else:\n",
    "    print('Did not receive acknowledgement!')"
   ]
  },
  {
   "cell_type": "markdown",
   "metadata": {},
   "source": [
    "# Command Gain"
   ]
  },
  {
   "cell_type": "code",
   "execution_count": 5,
   "metadata": {},
   "outputs": [],
   "source": [
    "import hebi\n",
    "lookup = hebi.Lookup()\n",
    "group = lookup.get_group_from_names(['Wheel'], ['Right'])\n",
    "\n",
    "if group is None:\n",
    "    print('Group not found: Did you forget to set the module family and names above?')\n",
    "    exit(1)"
   ]
  },
  {
   "cell_type": "code",
   "execution_count": 8,
   "metadata": {},
   "outputs": [
    {
     "name": "stdout",
     "output_type": "stream",
     "text": [
      "Successfully read gains from file; now sending to module.\n"
     ]
    }
   ],
   "source": [
    "command = hebi.GroupCommand(group.size)\n",
    "\n",
    "# Set gains. If this doesn't succeed, it may be because the number of modules in the group doesn't match the number in the XML,\n",
    "# or the file was corrupt.\n",
    "\n",
    "try:\n",
    "    command.read_gains('X8-9_STRATEGY3.xml')\n",
    "    print('Successfully read gains from file; now sending to module.')\n",
    "    group.send_command(command)\n",
    "except:\n",
    "    print('Could not read gains from file')"
   ]
  },
  {
   "cell_type": "markdown",
   "metadata": {},
   "source": [
    "# Command LED"
   ]
  },
  {
   "cell_type": "code",
   "execution_count": 12,
   "metadata": {},
   "outputs": [],
   "source": [
    "import hebi\n",
    "from time import sleep\n",
    "lookup = hebi.Lookup()\n",
    "group = lookup.get_group_from_names(['Wheel'], ['Right'])\n",
    "\n",
    "if group is None:\n",
    "    print('Group not found: Did you forget to set the module family and names above?')\n",
    "    exit(1)"
   ]
  },
  {
   "cell_type": "code",
   "execution_count": 13,
   "metadata": {},
   "outputs": [],
   "source": [
    "# Set command lifetime to 100 ms\n",
    "group.command_lifetime = 100\n",
    "\n",
    "group_command = hebi.GroupCommand(group.size)"
   ]
  },
  {
   "cell_type": "code",
   "execution_count": 20,
   "metadata": {},
   "outputs": [],
   "source": [
    "# Set the LED red\n",
    "group_command.led.color = 'red'\n",
    "group.send_command(group_command)\n",
    "\n",
    "sleep(3)"
   ]
  },
  {
   "cell_type": "code",
   "execution_count": 21,
   "metadata": {},
   "outputs": [],
   "source": [
    "# Set the LED Blue, and then clear the command.\n",
    "# Note that this \"clear\" does not return the LED to module control, but rather remove any LED command from the command object,\n",
    "# so when this is sent to the module the LED state won't be affected.\n",
    "group_command.led.color = 'blue'\n",
    "#group_command.led.color = None # Noneによってブルーが送られない\n",
    "group.send_command(group_command)\n",
    "\n",
    "sleep(3)"
   ]
  },
  {
   "cell_type": "code",
   "execution_count": 41,
   "metadata": {},
   "outputs": [],
   "source": [
    "# Set the LED purple. Note that this override automatically sets the alpha channel to \"255\" (e.g., arguments are RGB).\n",
    "group_command.led.color = hebi.Color(0, 255, 255)\n",
    "group.send_command(group_command)\n",
    "\n",
    "sleep(3)"
   ]
  },
  {
   "cell_type": "markdown",
   "metadata": {},
   "source": [
    "# Command position"
   ]
  },
  {
   "cell_type": "code",
   "execution_count": 1,
   "metadata": {},
   "outputs": [],
   "source": [
    "import hebi\n",
    "import numpy as np\n",
    "from time import sleep\n",
    "from math import sin\n",
    "lookup = hebi.Lookup()\n",
    "group = lookup.get_group_from_names(['Wheel'], ['Right'])\n",
    "\n",
    "if group is None:\n",
    "    print('Group not found: Did you forget to set the module family and names above?')\n",
    "    exit(1)"
   ]
  },
  {
   "cell_type": "code",
   "execution_count": 19,
   "metadata": {},
   "outputs": [
    {
     "name": "stdout",
     "output_type": "stream",
     "text": [
      "t = 0.0, module_index = 0, positions = [0.]\n",
      "t = 0.5, module_index = 0, positions = [0.24740396]\n",
      "t = 1.0, module_index = 0, positions = [0.47942554]\n",
      "t = 1.5, module_index = 0, positions = [0.68163876]\n",
      "t = 2.0, module_index = 0, positions = [0.84147098]\n",
      "t = 2.5, module_index = 0, positions = [0.94898462]\n",
      "t = 3.0, module_index = 0, positions = [0.99749499]\n",
      "t = 3.5, module_index = 0, positions = [0.98398595]\n",
      "t = 4.0, module_index = 0, positions = [0.90929743]\n",
      "t = 4.5, module_index = 0, positions = [0.7780732]\n",
      "t = 5.0, module_index = 0, positions = [0.59847214]\n",
      "t = 5.5, module_index = 0, positions = [0.38166099]\n",
      "t = 6.0, module_index = 0, positions = [0.14112001]\n",
      "t = 6.5, module_index = 0, positions = [-0.10819513]\n",
      "t = 7.0, module_index = 0, positions = [-0.35078323]\n",
      "t = 7.5, module_index = 0, positions = [-0.57156132]\n",
      "t = 8.0, module_index = 0, positions = [-0.7568025]\n",
      "t = 8.5, module_index = 0, positions = [-0.89498936]\n",
      "t = 9.0, module_index = 0, positions = [-0.97753012]\n",
      "t = 9.5, module_index = 0, positions = [-0.99929279]\n"
     ]
    }
   ],
   "source": [
    "command = hebi.GroupCommand(group.size)\n",
    "\n",
    "# Send commands to the group in a loop.\n",
    "# Note that these packets may be dropped if network traffic is too high, so be sure to close a feedback loop at the high level!\n",
    "period = 0.5\n",
    "t = 0.0\n",
    "\n",
    "positions = np.empty(group.size, dtype=np.float64)\n",
    "\n",
    "while t < 10.0:\n",
    "    for module_index in range(0, group.size):\n",
    "        positions[module_index] = sin((t * 0.5) + (module_index * 0.25))\n",
    "        print('t = {0}, module_index = {1}, positions = {2}' .format(t, module_index, positions))\n",
    "    \n",
    "    command.position = positions\n",
    "    group.send_command(command)\n",
    "    \n",
    "    sleep(period)\n",
    "    t = t + period"
   ]
  },
  {
   "cell_type": "code",
   "execution_count": 23,
   "metadata": {},
   "outputs": [
    {
     "name": "stdout",
     "output_type": "stream",
     "text": [
      "Got acknowledgement.\n",
      "Got acknowledgement.\n",
      "Got acknowledgement.\n",
      "Got acknowledgement.\n",
      "Got acknowledgement.\n",
      "Got acknowledgement.\n",
      "Got acknowledgement.\n",
      "Got acknowledgement.\n",
      "Got acknowledgement.\n",
      "Got acknowledgement.\n",
      "Got acknowledgement.\n",
      "Got acknowledgement.\n",
      "Got acknowledgement.\n",
      "Got acknowledgement.\n",
      "Got acknowledgement.\n",
      "Got acknowledgement.\n",
      "Got acknowledgement.\n",
      "Got acknowledgement.\n",
      "Got acknowledgement.\n",
      "Got acknowledgement.\n"
     ]
    }
   ],
   "source": [
    "# For critical packets, we can verify that they were sent by requesting\n",
    "# confirmation from the group.  If the acknowledgement function returns\n",
    "# 'True', it got positive confirmation. If it returns 'False', EITHER:\n",
    "# - the sent command was dropped\n",
    "# - the sent command was received by the group, but its response was either dropped or the timeout period expired before receipt of the group.\n",
    "# Again, a high-level process should intelligently handle these conditions!\n",
    "# Note that this is a blocking call, and so for high-frequency applications, send_command should be used instead.\n",
    "\n",
    "period = 0.5\n",
    "t = 0.0\n",
    "\n",
    "positions = np.empty(group.size, dtype=np.float64)\n",
    "\n",
    "#timeout_ms = 100\n",
    "\n",
    "while t < 10.0:\n",
    "    for module_index in range(0, group.size):\n",
    "        positions[module_index] = sin((t * 0.5) + (module_index * 0.25))\n",
    "    \n",
    "    command.position = positions\n",
    "    if group.send_command_with_acknowledgement(command):\n",
    "        print('Got acknowledgement.')\n",
    "    else:\n",
    "        print('Did not receive acknowledgement!')\n",
    "    \n",
    "    sleep(period)\n",
    "    t = t + period"
   ]
  }
 ],
 "metadata": {
  "kernelspec": {
   "display_name": "Python 3",
   "language": "python",
   "name": "python3"
  },
  "language_info": {
   "codemirror_mode": {
    "name": "ipython",
    "version": 3
   },
   "file_extension": ".py",
   "mimetype": "text/x-python",
   "name": "python",
   "nbconvert_exporter": "python",
   "pygments_lexer": "ipython3",
   "version": "3.6.5"
  }
 },
 "nbformat": 4,
 "nbformat_minor": 2
}
